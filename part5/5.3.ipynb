{
 "cells": [
  {
   "cell_type": "code",
   "execution_count": null,
   "metadata": {},
   "outputs": [],
   "source": [
    "def test_return(a, b):\n",
    "    c = a + b\n",
    "\n",
    "print(test_return(2, 4))\n"
   ]
  },
  {
   "cell_type": "code",
   "execution_count": null,
   "metadata": {},
   "outputs": [],
   "source": [
    "def test_return(a, b):\n",
    "    return a + b\n",
    "\n",
    "print(test_return(2, 4)) \n"
   ]
  },
  {
   "cell_type": "code",
   "execution_count": null,
   "metadata": {},
   "outputs": [],
   "source": [
    "def test_return(a, b):\n",
    "    c = a + b\n",
    "    m = a * b\n",
    "    e = a ** b\n",
    "    d = a / b\n",
    "    s = a - b\n",
    "    return c, m, e, d, s\n",
    "\n",
    "print(test_return(4, 2)) \n"
   ]
  },
  {
   "cell_type": "code",
   "execution_count": null,
   "metadata": {},
   "outputs": [],
   "source": [
    "x, y, q, w, z = test_return(4, 2)\n",
    "print(x, y, q, w, z) # 6 8 16 2.0 2 #1\n",
    "_, *my_list, _ = test_return(4, 2)\n",
    "print(my_list) # [8, 16, 2.0] #2\n",
    "y, *my_list, q = test_return(4, 2)\n",
    "print(y, my_list, q) # 6 [8, 16, 2.0] 2 #3\n",
    "w, _, _, *my_list = test_return(4, 2)\n",
    "print(w, my_list) # 6 [2.0, 2] #4\n"
   ]
  },
  {
   "cell_type": "code",
   "execution_count": null,
   "metadata": {},
   "outputs": [],
   "source": [
    "w, _ = test_return(4, 2)\n",
    "print(w, my_list)\n"
   ]
  },
  {
   "cell_type": "code",
   "execution_count": null,
   "metadata": {},
   "outputs": [],
   "source": []
  }
 ],
 "metadata": {
  "kernelspec": {
   "display_name": "Python 3.7.4 64-bit ('base': conda)",
   "name": "python37464bitbaseconda965802ec3bac4354bcdf100448e694ef"
  },
  "language_info": {
   "codemirror_mode": {
    "name": "ipython",
    "version": 3
   },
   "file_extension": ".py",
   "mimetype": "text/x-python",
   "name": "python",
   "nbconvert_exporter": "python",
   "pygments_lexer": "ipython3",
   "version": "3.7.7-final"
  },
  "orig_nbformat": 2
 },
 "nbformat": 4,
 "nbformat_minor": 2
}
