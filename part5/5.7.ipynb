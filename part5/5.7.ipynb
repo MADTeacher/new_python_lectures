{
 "cells": [
  {
   "cell_type": "code",
   "execution_count": null,
   "metadata": {},
   "outputs": [],
   "source": [
    "def free_decorator(function):\n",
    "    return function\n",
    "\n",
    "def my_func():\n",
    "    return \"Hello!!!\"\n",
    "my_func = free_decorator(my_func)\n",
    "my_func() # \"Hello!!!\"\n"
   ]
  },
  {
   "cell_type": "code",
   "execution_count": null,
   "metadata": {},
   "outputs": [],
   "source": [
    "@free_decorator\n",
    "def my_func():\n",
    "    return \" Hello!!!\"\n",
    "my_func() # \"Hello!!!\"\n"
   ]
  },
  {
   "cell_type": "code",
   "execution_count": null,
   "metadata": {},
   "outputs": [],
   "source": [
    "def up_register(func):\n",
    "    def wrapper():\n",
    "        original_result = func()\n",
    "        modified_result = original_result.upper()\n",
    "        return modified_result\n",
    "    return wrapper\n",
    "\n",
    "@up_register\n",
    "def my_func():\n",
    "    return \" Hello!!!\"\n",
    "my_func() # \"HELLO!!!\"\n"
   ]
  },
  {
   "cell_type": "code",
   "execution_count": null,
   "metadata": {},
   "outputs": [],
   "source": [
    "def h1_html(function):\n",
    "    def wrapper():\n",
    "        return '<h1>' + function() + '</h1>'\n",
    "    return wrapper\n",
    "\n",
    "def body(function):\n",
    "    def wrapper():\n",
    "        return '<body>' + function() + '</body>'\n",
    "    return wrapper\n",
    "\n",
    "@body\n",
    "@h1_html\n",
    "def my_func():\n",
    "    return \" Hello!!!\"\n",
    "print(my_func()) \n",
    "# <body><h1>Hello!!!</h1></body>\n"
   ]
  },
  {
   "cell_type": "code",
   "execution_count": null,
   "metadata": {},
   "outputs": [],
   "source": [
    "my_decfunc = body(h1_html(my_func))\n",
    "print(my_decfunc ())\n",
    "# <body><h1> Hello!!!</h1></body>\n"
   ]
  },
  {
   "cell_type": "code",
   "execution_count": null,
   "metadata": {},
   "outputs": [],
   "source": [
    "def body(function):\n",
    "    def wrapper():\n",
    "        return '<body>' + function() + '</body>'\n",
    "    return wrapper\n",
    "\n",
    "@body\n",
    "def my_func(name):\n",
    "    return name+\", Hello!!!\"\n",
    "my_func('Alex')\n"
   ]
  },
  {
   "cell_type": "code",
   "execution_count": null,
   "metadata": {},
   "outputs": [],
   "source": [
    "def body(function):\n",
    "    def wrapper(name):\n",
    "        return '<body>' + function(name) + '</body>'\n",
    "    return wrapper\n",
    "\n",
    "@body\n",
    "def my_func(name):\n",
    "    return name+\", Hello!!!\"\n",
    "my_func('Alex')\n",
    "# <body>Alex, Hello!!!</body>\n"
   ]
  }
 ],
 "metadata": {
  "kernelspec": {
   "display_name": "Python 3.7.4 64-bit ('base': conda)",
   "name": "python37464bitbaseconda965802ec3bac4354bcdf100448e694ef"
  },
  "language_info": {
   "codemirror_mode": {
    "name": "ipython",
    "version": 3
   },
   "file_extension": ".py",
   "mimetype": "text/x-python",
   "name": "python",
   "nbconvert_exporter": "python",
   "pygments_lexer": "ipython3",
   "version": "3.7.7-final"
  },
  "orig_nbformat": 2
 },
 "nbformat": 4,
 "nbformat_minor": 2
}
