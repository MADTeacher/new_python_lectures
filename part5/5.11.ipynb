{
 "cells": [
  {
   "cell_type": "code",
   "execution_count": null,
   "metadata": {},
   "outputs": [],
   "source": [
    "def add(a: int, b: int) -> int:\n",
    "    return a+b\n",
    "\n",
    "print(add.__annotations__)"
   ]
  },
  {
   "cell_type": "code",
   "execution_count": null,
   "metadata": {},
   "outputs": [],
   "source": [
    "def add(a: 'Oo?', b: 44) -> '^_^':\n",
    "    return a+b\n",
    "print(add.__annotations__)\n",
    "\n",
    "for arg in add.__annotations__:\n",
    "    print(arg, '=>', add.__annotations__[arg])\n"
   ]
  },
  {
   "cell_type": "code",
   "execution_count": null,
   "metadata": {},
   "outputs": [],
   "source": [
    "def add(a:'Oo?'=6, b:(7, 0)=44, \n",
    "                        c:float=7.5) -> '^_^':\n",
    "    return a+b+с\n",
    "print(add.__annotations__)\n",
    "\n",
    "for arg in add.__annotations__:\n",
    "    print(arg, '=>', add.__annotations__[arg])\n"
   ]
  },
  {
   "cell_type": "code",
   "execution_count": null,
   "metadata": {},
   "outputs": [],
   "source": [
    "    y: int = 1\n",
    "    y: float = 1.0\n",
    "    y: bool = True\n",
    "    y: str = \"test\"\n",
    "    y: bytes = b\"test\"\n",
    "    y: list[int] = [1, 4, 6]\n",
    "    y: set[int] = {6, 7, 11, 6, 0}\n",
    "    y: dict[str, int] = {\"key\": 12}  \n",
    "    y: tuple[int, str, float] = (7, \"Oo\", 1.45)\n",
    "    # не фиксированный размер кортежа  \n",
    "    y: tuple[int, ...] = (1, 2, 3) \n"
   ]
  },
  {
   "cell_type": "code",
   "execution_count": null,
   "metadata": {},
   "outputs": [],
   "source": [
    "from typing import List, Set, Dict, Tuple\n",
    "x: List[int] = [1, 4, 6]\n",
    "\n",
    "x: Set[int] = {6, 7, 11, 6, 0}\n",
    "x: Dict[str, int] = {\"key\": 12}  \n",
    "x: Tuple[int, str, float] = (7, \"Oo\", 1.45)  \n",
    "x: Tuple[int, ...] = (1, 2, 3)\n"
   ]
  },
  {
   "cell_type": "code",
   "execution_count": null,
   "metadata": {},
   "outputs": [],
   "source": [
    "def foo(my_list: list[int]) -> int:\n",
    "    return sum(my_list)\n",
    "\n",
    "\n",
    "if __name__ == '__main__':\n",
    "    my_list = [1, 2, 4, 5, 6, 7]\n",
    "    result = foo(my_list)\n",
    "    print(result) # 25\n"
   ]
  },
  {
   "cell_type": "code",
   "execution_count": null,
   "metadata": {},
   "outputs": [],
   "source": [
    "from typing import Union\n",
    "\n",
    "\n",
    "def foo(my_list: list[Union[int, float]]) -> Union[int, float]:\n",
    "    return sum(my_list)\n"
   ]
  },
  {
   "cell_type": "code",
   "execution_count": null,
   "metadata": {},
   "outputs": [],
   "source": [
    "from typing import Optional\n",
    "\n",
    "\n",
    "def foo(a: int, b: float,\n",
    "        c: Optional[int | float]) -> Optional[float]:\n",
    "    if c is not None:\n",
    "        return a + b + c\n",
    "    else:\n",
    "        return None\n",
    "\n",
    "\n",
    "if __name__ == '__main__':\n",
    "    print(foo(2, 4.6, 8)) # 14.6\n",
    "    print(foo(2, 4.6, None)) # None\n",
    " "
   ]
  },
  {
   "cell_type": "code",
   "execution_count": null,
   "metadata": {},
   "outputs": [],
   "source": [
    "def foo(a: int, b: float,\n",
    "        c: int | float | None) -> float | None:\n",
    "    if c is not None:\n",
    "        return a + b + c\n",
    "    else:\n",
    "        return None\n"
   ]
  },
  {
   "cell_type": "code",
   "execution_count": null,
   "metadata": {},
   "outputs": [],
   "source": [
    "from typing import Any\n",
    "\n",
    "\n",
    "def foo() -> dict[str, Any]:\n",
    "    return {'name': 'Alex',\n",
    "            'age': 19,\n",
    "            'is_married': False\n",
    "            }\n",
    "\n",
    "\n",
    "if __name__ == '__main__':\n",
    "    my_dict = foo()\n",
    "    print(my_dict)\n"
   ]
  },
  {
   "cell_type": "code",
   "execution_count": null,
   "metadata": {},
   "outputs": [],
   "source": [
    "from typing import Any, Callable\n",
    "\n",
    "\n",
    "def foo(person: dict[str, Any],\n",
    "        checker: Callable[[int], bool]) -> bool:\n",
    "    return checker(person['age'])\n",
    "\n",
    "\n",
    "if __name__ == '__main__':\n",
    "    my_dict = {'name': 'Alex',\n",
    "               'age': 19,\n",
    "               'is_married': False\n",
    "               }\n",
    "\n",
    "    def my_func(age: int) -> bool:\n",
    "        return age >= 18\n",
    "\n",
    "    print(foo(my_dict, my_func))\n"
   ]
  },
  {
   "cell_type": "code",
   "execution_count": null,
   "metadata": {},
   "outputs": [],
   "source": [
    "from typing import Callable\n",
    "\n",
    "\n",
    "def pow_n(n: int) -> Callable[[int], int]:\n",
    "    def action(x: int) -> int:\n",
    "        return x ** n\n",
    "    return action\n",
    "\n",
    "\n",
    "if __name__ == '__main__':\n",
    "    my_pow = pow_n(3)\n",
    "    print(my_pow(2))\n"
   ]
  }
 ],
 "metadata": {
  "kernelspec": {
   "display_name": "Python 3.7.4 64-bit ('base': conda)",
   "name": "python37464bitbaseconda965802ec3bac4354bcdf100448e694ef"
  },
  "language_info": {
   "codemirror_mode": {
    "name": "ipython",
    "version": 3
   },
   "file_extension": ".py",
   "mimetype": "text/x-python",
   "name": "python",
   "nbconvert_exporter": "python",
   "pygments_lexer": "ipython3",
   "version": "3.7.7-final"
  },
  "orig_nbformat": 2
 },
 "nbformat": 4,
 "nbformat_minor": 2
}
