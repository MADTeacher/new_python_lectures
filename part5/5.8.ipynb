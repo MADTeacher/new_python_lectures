{
 "cells": [
  {
   "cell_type": "code",
   "execution_count": null,
   "metadata": {},
   "outputs": [],
   "source": [
    "def gen_test():\n",
    "    N = 0\n",
    "    while N < 3:\n",
    "        yield N\n",
    "        N += 1\n",
    "\n",
    "for x in gen_test():\n",
    "    print(x, end=' ')\n"
   ]
  },
  {
   "cell_type": "code",
   "execution_count": null,
   "metadata": {},
   "outputs": [],
   "source": [
    "def gen_surprise_test():\n",
    "    yield 0\n",
    "    yield 1\n",
    "    yield 2\n",
    "\n",
    "for x in gen_surprise_test():\n",
    "    print(x, end=' ')\n"
   ]
  },
  {
   "cell_type": "code",
   "execution_count": null,
   "metadata": {},
   "outputs": [],
   "source": [
    "iterator = gen_surprise_test()\n",
    "print(iterator)\n",
    "<generator object gen_surprise_test at 0x0000023BE25DF448>\n",
    "print(next(iterator)) # 0\n",
    "print(iterator.__next__()) # 1\n",
    "print(next(iterator)) # 2\n",
    "print(next(iterator)) # StopIteration\n"
   ]
  },
  {
   "cell_type": "code",
   "execution_count": null,
   "metadata": {},
   "outputs": [],
   "source": [
    "def gen_send_test(N):\n",
    "    for x in range(N):\n",
    "        Y = yield x\n",
    "        print(Y)\n",
    "\n",
    "iterator = gen_send_test(2)\n",
    "print(next(iterator)) # 0\n",
    "print(iterator.send('Sst')) \n",
    "# Sst\n",
    "# 1\n",
    "print(iterator.send('DDD'))\n",
    "# DDD\n",
    "# StopIteration\n"
   ]
  },
  {
   "cell_type": "code",
   "execution_count": null,
   "metadata": {},
   "outputs": [],
   "source": [
    "def exept_gen_test(N):\n",
    "    try:\n",
    "        for x in range(N):\n",
    "            yield x\n",
    "    except GeneratorExit:\n",
    "        print('Exception!!!')\n",
    "    print('End')\n",
    "\n",
    "for it in exept_gen_test(30):\n",
    "    if it >= 10:\n",
    "        break\n",
    "    print(it, end=' ')\n"
   ]
  },
  {
   "cell_type": "code",
   "execution_count": null,
   "metadata": {},
   "outputs": [],
   "source": [
    "print([х+2 for х in range(5)]) # [2, 3, 4, 5, 6]\n",
    "print((х+2 for х in range(5)))\n"
   ]
  },
  {
   "cell_type": "code",
   "execution_count": null,
   "metadata": {},
   "outputs": [],
   "source": [
    "def gen_func(N):\n",
    "    for it in range(N):\n",
    "        yield 'DDD'\n",
    "\n",
    "func_iter = gen_func(3)\n",
    "for it in func_iter:\n",
    "    print(it)\n"
   ]
  },
  {
   "cell_type": "code",
   "execution_count": null,
   "metadata": {},
   "outputs": [],
   "source": [
    "new_func_iter = ('DDD' for _ in range(3))\n",
    "for it in new_func_iter:\n",
    "    print(it)\n",
    "\t\n",
    "#или\n",
    "\n",
    "for it in ('DDD' for _ in range(4)):\n",
    "    print(it)\n"
   ]
  }
 ],
 "metadata": {
  "kernelspec": {
   "display_name": "Python 3.7.4 64-bit ('base': conda)",
   "name": "python37464bitbaseconda965802ec3bac4354bcdf100448e694ef"
  },
  "language_info": {
   "codemirror_mode": {
    "name": "ipython",
    "version": 3
   },
   "file_extension": ".py",
   "mimetype": "text/x-python",
   "name": "python",
   "nbconvert_exporter": "python",
   "pygments_lexer": "ipython3",
   "version": "3.7.7-final"
  },
  "orig_nbformat": 2
 },
 "nbformat": 4,
 "nbformat_minor": 2
}
