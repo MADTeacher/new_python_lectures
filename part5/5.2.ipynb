{
 "cells": [
  {
   "cell_type": "code",
   "execution_count": null,
   "metadata": {},
   "outputs": [],
   "source": [
    "def test(a, b, c):\n",
    "    print('a = {}; b = {}; c = {}'.format(a, b, c))\n",
    "\n",
    "x, y, z = (5, [1, 4], 'Str')\n",
    "test(x, y, z)  # a = 5; b = [1, 4]; c = Str\n",
    "print('x = {}; y = {}; z = {}'.format(x, y, z))\n",
    "# x = 5; y = [1, 4]; z = Str\n"
   ]
  },
  {
   "cell_type": "code",
   "execution_count": null,
   "metadata": {},
   "outputs": [],
   "source": [
    "def test(a, b, c):\n",
    "    print('a = {}; b = {}; c = {}'.format(id(a),\n",
    "          id(b), id(c)))\n",
    "\n",
    "x, y, z = (5, [1, 4], 'Str')\n",
    "test(x, y, z)\n",
    "# a = 140721789706640; b = 2740459779272; \n",
    "# c = 2740486981488\n",
    "print('x = {}; y = {}; z = {}'.format(id(x), \n",
    "       id(y), id(z)))\n"
   ]
  },
  {
   "cell_type": "code",
   "execution_count": null,
   "metadata": {},
   "outputs": [],
   "source": [
    "a = 2\n",
    "b[0] = 'Oo'\n",
    "c = '^_^'\n",
    "print('a = {}; b = {}; c = {}'.format(a, b, c))\n",
    "print('a = {}; b = {}; c = {}'.format(id(a),\n",
    "           id(b), id(c)))\n",
    "\n",
    "x, y, z = (5, [1, 4], 'Str')\n",
    "test(x, y, z) # a = 2; b = ['Oo', 4]; c = ^_^\n",
    "# a = 140721789706768; b = 2740487405256; \n",
    "# c = 2740482508848\n",
    "print('x = {}; y = {}; z = {}'.format(x, y, z)) \n",
    "# x = 5; y = ['Oo', 4]; z = Str\n",
    "print('x = {}; y = {}; z = {}'.format(id(x), id(y), id(z))) \n"
   ]
  },
  {
   "cell_type": "code",
   "execution_count": null,
   "metadata": {},
   "outputs": [],
   "source": [
    "def test_default(a=10):\n",
    "    print(a)\n",
    "test_default('Hi!') # Hi!\n",
    "test_default() # 10\n"
   ]
  },
  {
   "cell_type": "code",
   "execution_count": null,
   "metadata": {},
   "outputs": [],
   "source": [
    "def test_default2(a=10, b=12):\n",
    "    print(a+b)\n",
    "\n",
    "test_default2() # 22\n",
    "test_default2(4) # 16\n",
    "test_default2(4,2) # 6\n"
   ]
  },
  {
   "cell_type": "code",
   "execution_count": null,
   "metadata": {},
   "outputs": [],
   "source": [
    "def test_default2(a, b=12):\n",
    "    print(a+b)\n",
    "test_default2(4) # 16\n",
    "test_default2(4,2) # 6\n"
   ]
  },
  {
   "cell_type": "code",
   "execution_count": null,
   "metadata": {},
   "outputs": [],
   "source": [
    "def test_default2(b=12, a):\n",
    "    print(a+b)\n",
    "\n",
    "test_default2(4,2)\n"
   ]
  },
  {
   "cell_type": "code",
   "execution_count": null,
   "metadata": {},
   "outputs": [],
   "source": [
    "def custom_function(a, b, c):\n",
    "    print(a + b + c)\n",
    "custom_function(10,4,8) # 22\n"
   ]
  },
  {
   "cell_type": "code",
   "execution_count": null,
   "metadata": {},
   "outputs": [],
   "source": [
    "def custom_function(a, b, c=2):\n",
    "    print(a + b + c)\n",
    "custom_function(b=2, c=1, a=4) # 7\n"
   ]
  },
  {
   "cell_type": "code",
   "execution_count": null,
   "metadata": {},
   "outputs": [],
   "source": [
    "def custom_function(a, b, c, *args):\n",
    "    print(a + b + c + sum(*args))\n",
    "custom_function(1, 1, 1, [10, 20, 30])\n",
    "# 63\n",
    "\n",
    "custom_function(a=1, c=4, b=11, [10, 20, 30])\n"
   ]
  },
  {
   "cell_type": "code",
   "execution_count": null,
   "metadata": {},
   "outputs": [],
   "source": [
    "def custom_function(a, b, c, *args, d):\n",
    "    print(a + b + c + sum(*args) - d)\n",
    "custom_function(1, 1, 1, [10, 20, 30], d=4) # 59\n",
    "custom_function(1, 1, 1, [10, 20, 30], 4)\n"
   ]
  },
  {
   "cell_type": "code",
   "execution_count": null,
   "metadata": {},
   "outputs": [],
   "source": [
    "def custom_function4(*args, **kwargs):\n",
    "    if args:\n",
    "        print(args)\n",
    "    if kwargs:\n",
    "        print(kwargs)\n",
    "custom_function4(10, 20, key='Hi', Oo = 100)\n"
   ]
  },
  {
   "cell_type": "code",
   "execution_count": null,
   "metadata": {},
   "outputs": [],
   "source": [
    "def custom_function4(*a, **b):\n",
    "    if a:\n",
    "        print(a)\n",
    "    if b:\n",
    "        print(b)\n",
    "custom_function4(10, 20, key='Hi', Oo = 100)\n"
   ]
  },
  {
   "cell_type": "code",
   "execution_count": null,
   "metadata": {},
   "outputs": [],
   "source": [
    "def custom_function5(**kwargs):\n",
    "    print(kwargs)\n",
    "custom_function5(key='Hi', Oo = 100)\n"
   ]
  }
 ],
 "metadata": {
  "kernelspec": {
   "display_name": "Python 3.7.4 64-bit ('base': conda)",
   "name": "python37464bitbaseconda965802ec3bac4354bcdf100448e694ef"
  },
  "language_info": {
   "codemirror_mode": {
    "name": "ipython",
    "version": 3
   },
   "file_extension": ".py",
   "mimetype": "text/x-python",
   "name": "python",
   "nbconvert_exporter": "python",
   "pygments_lexer": "ipython3",
   "version": "3.7.7-final"
  },
  "orig_nbformat": 2
 },
 "nbformat": 4,
 "nbformat_minor": 2
}
