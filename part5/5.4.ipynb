{
 "cells": [
  {
   "cell_type": "code",
   "execution_count": null,
   "metadata": {},
   "outputs": [],
   "source": [
    "X = 6\n",
    "def test_func(y):\n",
    "    print(X + y)\n",
    "test_func(7) # 13\n"
   ]
  },
  {
   "cell_type": "code",
   "execution_count": null,
   "metadata": {},
   "outputs": [],
   "source": [
    "X = 6\n",
    "def test_func(y):\n",
    "    X = 3\n",
    "    print(X + y)\n",
    "test_func(7) # 10\n",
    "print(X) # 6\n"
   ]
  },
  {
   "cell_type": "code",
   "execution_count": null,
   "metadata": {},
   "outputs": [],
   "source": [
    "X = 6\n",
    "def test_func(y):\n",
    "    global X\n",
    "    X = 3\n",
    "    print(X + y)\n",
    "test_func(7) # 10\n",
    "print(X) # 3\n"
   ]
  },
  {
   "cell_type": "code",
   "execution_count": null,
   "metadata": {},
   "outputs": [],
   "source": [
    "def maker(N):\n",
    "    def action(X):  # Создание и возвращение функции action\n",
    "        return X ** N  \n",
    "    return action\n",
    "\n",
    "my_func = maker(3)\n",
    "print(my_func(2)) # 8\n",
    "print(my_func(4)) # 64\n",
    "print(my_func(5)) # 125\n"
   ]
  },
  {
   "cell_type": "code",
   "execution_count": null,
   "metadata": {},
   "outputs": [],
   "source": [
    "def maker(N):\n",
    "    return lambda X: X ** N\n",
    "my_func = maker(3)\n",
    "print(my_func(2)) # 8\n",
    "print(my_func(4)) # 64\n",
    "print(my_func(5)) # 125\n"
   ]
  },
  {
   "cell_type": "code",
   "execution_count": null,
   "metadata": {},
   "outputs": [],
   "source": [
    "def counter(start):\n",
    "    state = start\n",
    "    def adder(X):\n",
    "        print(X + state)\n",
    "    return adder\n",
    "F = counter(5)\n",
    "F(3) # 8\n",
    "F(5) # 10\n"
   ]
  },
  {
   "cell_type": "code",
   "execution_count": null,
   "metadata": {},
   "outputs": [],
   "source": [
    "def counter(start):\n",
    "    state = start\n",
    "    def adder(X):\n",
    "        print(X + state)\n",
    "        state += 1\n",
    "    return adder\n",
    "F = counter(0)\n",
    "F(3)\n"
   ]
  },
  {
   "cell_type": "code",
   "execution_count": null,
   "metadata": {},
   "outputs": [],
   "source": [
    "def counter(start):\n",
    "    state = start\n",
    "    def adder(X):\n",
    "        nonlocal state\n",
    "        print(X + state)\n",
    "       state += 1\n",
    "    return adder\n",
    "F = counter(5)\n",
    "F(3) # 8\n",
    "F(5) # 11\n"
   ]
  },
  {
   "cell_type": "code",
   "execution_count": null,
   "metadata": {},
   "outputs": [],
   "source": [
    "def counter(start):\n",
    "    def adder(X):\n",
    "        nonlocal state\n",
    "        state = start\n",
    "        print(X + state)\n",
    "        state += 1\n",
    "    return adder\n",
    "F = counter(5)\n"
   ]
  },
  {
   "cell_type": "code",
   "execution_count": null,
   "metadata": {},
   "outputs": [],
   "source": [
    "state = 10\n",
    "def counter():\n",
    "    def adder(X):\n",
    "        nonlocal state\n",
    "        print(X + state)\n",
    "        state += 1\n",
    "    return adder\n",
    "F = counter()\n"
   ]
  }
 ],
 "metadata": {
  "kernelspec": {
   "display_name": "Python 3.7.4 64-bit ('base': conda)",
   "name": "python37464bitbaseconda965802ec3bac4354bcdf100448e694ef"
  },
  "language_info": {
   "codemirror_mode": {
    "name": "ipython",
    "version": 3
   },
   "file_extension": ".py",
   "mimetype": "text/x-python",
   "name": "python",
   "nbconvert_exporter": "python",
   "pygments_lexer": "ipython3",
   "version": "3.7.7-final"
  },
  "orig_nbformat": 2
 },
 "nbformat": 4,
 "nbformat_minor": 2
}
