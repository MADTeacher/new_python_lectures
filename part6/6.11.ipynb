{
 "cells": [
  {
   "cell_type": "code",
   "execution_count": null,
   "metadata": {},
   "outputs": [],
   "source": [
    "def test_exception(data: list[int], index: int) -> None:\n",
    "    print(data[index])\n",
    "\n",
    "\n",
    "if __name__ == \"__main__\":\n",
    "    my_list = [1, 4, 6, 7]\n",
    "    test_exception(my_list, 2) # No Exception\n",
    "    test_exception(my_list, 6) # Exception IndexError\n"
   ]
  },
  {
   "cell_type": "code",
   "execution_count": null,
   "metadata": {},
   "outputs": [],
   "source": [
    "if __name__ == \"__main__\":\n",
    "    my_list = [1, 4, 6, 7]\n",
    "    test_exception(my_list, 2) # No Exception\n",
    "    try:\n",
    "        test_exception(my_list, 6)  # Exception IndexError\n",
    "    except IndexError:\n",
    "        print(\"Перехват исключения IndexError\")\n"
   ]
  },
  {
   "cell_type": "code",
   "execution_count": null,
   "metadata": {},
   "outputs": [],
   "source": [
    "if __name__ == \"__main__\":\n",
    "    my_list = [1, 4, 6, 7]\n",
    "    test_exception(my_list, 2) # No Exception\n",
    "    try:\n",
    "        test_exception(my_list, 6)  # Exception IndexError\n",
    "    except:\n",
    "        print(\"Перехват исключения IndexError\")\n"
   ]
  },
  {
   "cell_type": "code",
   "execution_count": null,
   "metadata": {},
   "outputs": [],
   "source": [
    "if __name__ == \"__main__\":\n",
    "    my_list = [1, 4, 6, 7]\n",
    "    try:\n",
    "        test_exception(my_list, 2) # No Exception\n",
    "    except:\n",
    "        print(\"Перехват исключения\")\n",
    "    else:\n",
    "        print(\"Good work!!!\")\n",
    "    finally:\n",
    "        print('Finally!')\n",
    "\n",
    "    try:\n",
    "        test_exception(my_list, 6)  # Exception IndexError\n",
    "    except IndexError:\n",
    "        print(\"Перехват исключения IndexError\")\n",
    "    else:\n",
    "        print(\"Good work!!!\")\n",
    "    finally:\n",
    "        print('Finally!')\n"
   ]
  },
  {
   "cell_type": "code",
   "execution_count": null,
   "metadata": {},
   "outputs": [],
   "source": [
    "class MyException(Exception): pass\n",
    "\n",
    "\n",
    "def raise_exception(text):\n",
    "    if text == \"Oo\":\n",
    "        raise MyException(\"My Exception\")\n",
    "    print(\"No Exception\")\n",
    "\n",
    "\n",
    "def test_exception(text):\n",
    "    try:\n",
    "        raise_exception(text)\n",
    "    except MyException as ex:\n",
    "        print(ex)\n",
    "\n",
    "\n",
    "if __name__ == \"__main__\":\n",
    "    my_str = \"^_^\"\n",
    "    test_exception(my_str) # No Exception\n",
    "    my_str = \"Oo\"\n",
    "    test_exception(my_str) # My Exception\n"
   ]
  },
  {
   "cell_type": "code",
   "execution_count": null,
   "metadata": {},
   "outputs": [],
   "source": [
    "class MyException(Exception):\n",
    "\n",
    "    def __init__ (self, line, file) :\n",
    "        self.line = line\n",
    "\n",
    "    def logerror(self):\n",
    "        print('Error at:', self.line)\n",
    "\n",
    "def test():\n",
    "    try:\n",
    "        raise MyException (22)\n",
    "    except TestException as ex:\n",
    "        ex.logerror()\n",
    "        print(my_ex)\n",
    "\n",
    "if __name__ == \"__main__\":\n",
    "    test() # 22\n"
   ]
  },
  {
   "cell_type": "code",
   "execution_count": null,
   "metadata": {},
   "outputs": [],
   "source": [
    "def test_exception(data: list[int], index: int) -> None:\n",
    "    assert len(data) >= index, 'Выход за границы списка'\n",
    "    print(data[index])\n",
    "\n",
    "\n",
    "if __name__ == \"__main__\":\n",
    "    my_list = [1, 4, 6, 7]\n",
    "    test_exception(my_list, 3) # No Exception\n",
    "    test_exception(my_list, 6) # Exception IndexError\n"
   ]
  },
  {
   "cell_type": "code",
   "execution_count": null,
   "metadata": {},
   "outputs": [],
   "source": [
    "def test_exception() -> None:\n",
    "    try:\n",
    "        raise ExceptionGroup(\"eg\",\n",
    "                             [ValueError(1), \n",
    "                              TypeError(2), \n",
    "                              KeyError(3), OSError(4)])\n",
    "    except* TypeError as e:\n",
    "        print(f'{e.exceptions}')\n",
    "    except* OSError as e:\n",
    "        print(f'{e.exceptions}')\n",
    "\n",
    "\n",
    "if __name__ == \"__main__\":\n",
    "    test_exception()\n"
   ]
  },
  {
   "cell_type": "code",
   "execution_count": null,
   "metadata": {},
   "outputs": [],
   "source": [
    "def test_exception() -> None:\n",
    "    try:\n",
    "        raise ExceptionGroup(\"eg\",\n",
    "                             [ValueError(1),\n",
    "                              TypeError(2),\n",
    "                              KeyError(3), OSError(4)])\n",
    "    except* TypeError as e:\n",
    "        print(f'{e.exceptions}')\n",
    "    except* OSError as e:\n",
    "        print(f'{e.exceptions}')\n",
    "    except* KeyError as e:\n",
    "        print(f'{e.exceptions}')\n",
    "    except* ValueError as e:\n",
    "        print(f'{e.exceptions}')\n",
    "\n",
    "\n",
    "if __name__ == \"__main__\":\n",
    "    test_exception()\n"
   ]
  },
  {
   "cell_type": "code",
   "execution_count": null,
   "metadata": {},
   "outputs": [],
   "source": [
    "def test_exception() -> None:\n",
    "    try:\n",
    "        raise ExceptionGroup(\"eg\",\n",
    "                             [ValueError(1),\n",
    "                              TypeError(2),\n",
    "                              KeyError(3), OSError(4)])\n",
    "    except ExceptionGroup as e:\n",
    "        for it in e.exceptions:\n",
    "            if isinstance(it, TypeError):\n",
    "                print(f'TypeError: {it}')\n",
    "            if isinstance(it, OSError):\n",
    "                print(f'OSError: {it}')\n",
    "            if isinstance(it, KeyError):\n",
    "                print(f'KeyError: {it}')\n",
    "            if isinstance(it, ValueError):\n",
    "                print(f'ValueError: {it}')\n",
    "\n",
    "if __name__ == \"__main__\":\n",
    "    test_exception()\n"
   ]
  },
  {
   "cell_type": "code",
   "execution_count": null,
   "metadata": {},
   "outputs": [],
   "source": [
    "def test_exception() -> None:\n",
    "    try:\n",
    "        raise ExceptionGroup(\"eg\",\n",
    "                             [ValueError(1),\n",
    "                              ValueError(2),\n",
    "                              ValueError(3),\n",
    "                              ValueError(4)])\n",
    "    except ExceptionGroup as e:\n",
    "        for it in e.exceptions:\n",
    "            if isinstance(it, TypeError):\n",
    "                print(f'TypeError: {it}')\n",
    "            if isinstance(it, OSError):\n",
    "                print(f'OSError: {it}')\n",
    "            if isinstance(it, KeyError):\n",
    "                print(f'KeyError: {it}')\n",
    "            if isinstance(it, ValueError):\n",
    "                print(f'ValueError: {it}')\n",
    "\n",
    "if __name__ == \"__main__\":\n",
    "    test_exception()\n"
   ]
  },
  {
   "cell_type": "code",
   "execution_count": null,
   "metadata": {},
   "outputs": [],
   "source": [
    "def test_exception() -> None:\n",
    "    try:\n",
    "        raise ExceptionGroup(\"eg\",\n",
    "                             [ValueError(1),\n",
    "                              ValueError(2),\n",
    "                              ValueError(3),\n",
    "                              ValueError(4)])\n",
    "    except* KeyError as e:\n",
    "        print(f'{e.exceptions}')\n",
    "    except* ValueError as e:\n",
    "        print(f'{e.exceptions}')\n",
    "        for it in e.exceptions:\n",
    "            print(f'ValueError: {it}')\n",
    "\n",
    "\n",
    "if __name__ == \"__main__\":\n",
    "    test_exception()\n"
   ]
  }
 ],
 "metadata": {
  "kernelspec": {
   "display_name": "Python 3.7.4 64-bit ('base': conda)",
   "name": "python37464bitbaseconda965802ec3bac4354bcdf100448e694ef"
  },
  "language_info": {
   "codemirror_mode": {
    "name": "ipython",
    "version": 3
   },
   "file_extension": ".py",
   "mimetype": "text/x-python",
   "name": "python",
   "nbconvert_exporter": "python",
   "pygments_lexer": "ipython3",
   "version": "3.7.7-final"
  },
  "orig_nbformat": 2
 },
 "nbformat": 4,
 "nbformat_minor": 2
}
