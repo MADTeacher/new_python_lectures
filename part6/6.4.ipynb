{
 "cells": [
  {
   "cell_type": "code",
   "execution_count": null,
   "metadata": {},
   "outputs": [],
   "source": [
    "\n",
    "class MyClass:\n",
    "    pow_val = 2 # переменная класса\n",
    "    def __init__(self, magic=10):\n",
    "        self.magic = magic\n",
    "\n",
    "    def square_magic(self):\n",
    "        return self.magic ** TestClass.pow_val\n",
    "\n",
    "if __name__ == \"__main__\":\n",
    "    my_test1 = MyClass()\n",
    "    print(my_test1.square_magic())\n",
    "    my_test2 = MyClass(5)\n",
    "    print(my_test2.square_magic()) \n"
   ]
  },
  {
   "cell_type": "code",
   "execution_count": null,
   "metadata": {},
   "outputs": [],
   "source": [
    "my_test3 = MyClass()\n",
    "my_test4 = MyClass()\n",
    "my_test3.pow_val = 4\n",
    "print(my_test3.pow_val) # 4\n",
    "print(my_test4.pow_val) # 2 \n"
   ]
  },
  {
   "cell_type": "code",
   "execution_count": null,
   "metadata": {},
   "outputs": [],
   "source": [
    "my_test5 = MyClass()\n",
    "TestClass.pow_val = 6\n",
    "print(my_test5.pow_val) # 6\n"
   ]
  },
  {
   "cell_type": "code",
   "execution_count": null,
   "metadata": {},
   "outputs": [],
   "source": [
    "class MyClass:\n",
    "\n",
    "    all_created_clases = []\n",
    "\n",
    "    def __init__(self, magic=10):\n",
    "        self.magic = magic\n",
    "        TestClass.all_created_clases.append(self)\n",
    "        #self.__class__.all_created_clases.append(self)\n",
    "\n",
    "    def square_magic(self):\n",
    "        return self.magic ** 2\n",
    "\n",
    "    @classmethod\n",
    "    def sum_all_square_magic(cls):\n",
    "        rezult = 0\n",
    "        for it in cls.all_created_clases:\n",
    "            rezult += it.square_magic()\n",
    "        return rezult\n",
    "\n",
    "if __name__ == \"__main__\":\n",
    "    my_test1 = MyClass()\n",
    "    my_test2 = MyClass(5)\n",
    "    my_test4 = MyClass(15)\n",
    "    print(MyClass.sum_all_square_magic()) # 350\n",
    "    my_test5 = MyClass(1)\n",
    "    print(MyClass.sum_all_square_magic())\n"
   ]
  }
 ],
 "metadata": {
  "kernelspec": {
   "display_name": "Python 3.7.4 64-bit ('base': conda)",
   "name": "python37464bitbaseconda965802ec3bac4354bcdf100448e694ef"
  },
  "language_info": {
   "codemirror_mode": {
    "name": "ipython",
    "version": 3
   },
   "file_extension": ".py",
   "mimetype": "text/x-python",
   "name": "python",
   "nbconvert_exporter": "python",
   "pygments_lexer": "ipython3",
   "version": "3.7.7-final"
  },
  "orig_nbformat": 2
 },
 "nbformat": 4,
 "nbformat_minor": 2
}
