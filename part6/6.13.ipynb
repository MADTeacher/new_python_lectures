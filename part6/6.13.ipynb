{
 "cells": [
  {
   "cell_type": "code",
   "execution_count": null,
   "metadata": {},
   "outputs": [],
   "source": [
    "from typing import TypeVar, Generic\n",
    "\n",
    "T = TypeVar('T')\n",
    "\n",
    "class Queue(Generic[T]):\n",
    "    def __init__(self) -> None:\n",
    "        self.items: list[T] = []\n",
    "\n",
    "    def enqueue(self, item: T) -> None:\n",
    "        self.items.append(item)\n",
    "\n",
    "    def dequeue(self) -> T:\n",
    "        return self.items.pop(0)\n"
   ]
  },
  {
   "cell_type": "code",
   "execution_count": null,
   "metadata": {},
   "outputs": [],
   "source": [
    "from typing import TypeVar, Generic\n",
    "\n",
    "T = TypeVar('T', int, str) # дженерик с ограничениями по типам\n",
    "\n",
    "class Queue(Generic[T]):\n",
    "    def __init__(self) -> None:\n",
    "        self.items: list[T] = []\n",
    "\n",
    "    def enqueue(self, item: T) -> None:\n",
    "        self.items.append(item)\n",
    "\n",
    "    def dequeue(self) -> T:\n",
    "        return self.items.pop(0)\n",
    "\n",
    "\n",
    "if __name__ == \"__main__\":\n",
    "    # Использование класса Queue с Generic типом int\n",
    "    q_int = Queue[int]()\n",
    "    q_int.enqueue(1)\n",
    "    q_int.enqueue(2)\n",
    "    q_int.enqueue(3)\n",
    "    print(q_int.dequeue())  # 1\n",
    "\n",
    "    # Использование класса Queue с Generic типом str\n",
    "    q_str = Queue[str]()\n",
    "    q_str.enqueue(\"Hello\")\n",
    "    q_str.enqueue(\"World\")\n",
    "    print(q_str.dequeue())  # \"Hello\"\n"
   ]
  },
  {
   "cell_type": "code",
   "execution_count": null,
   "metadata": {},
   "outputs": [],
   "source": [
    "from typing import TypeVar\n",
    "\n",
    "T = TypeVar('T')\n",
    "\n",
    "def first_element(items: list[T]) -> T:\n",
    "    return items[0]\n",
    "\n",
    "print(first_element([1, 2, 3])) # 1\n",
    "print(first_element(['a', 'b', 'c'])) # a\n"
   ]
  }
 ],
 "metadata": {
  "kernelspec": {
   "display_name": "Python 3.7.4 64-bit ('base': conda)",
   "name": "python37464bitbaseconda965802ec3bac4354bcdf100448e694ef"
  },
  "language_info": {
   "codemirror_mode": {
    "name": "ipython",
    "version": 3
   },
   "file_extension": ".py",
   "mimetype": "text/x-python",
   "name": "python",
   "nbconvert_exporter": "python",
   "pygments_lexer": "ipython3",
   "version": "3.7.7-final"
  },
  "orig_nbformat": 2
 },
 "nbformat": 4,
 "nbformat_minor": 2
}
