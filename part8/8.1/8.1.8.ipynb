{
 "cells": [
  {
   "cell_type": "code",
   "execution_count": null,
   "metadata": {
    "vscode": {
     "languageId": "plaintext"
    }
   },
   "outputs": [],
   "source": [
    "def read_pizzas_from_file():\n",
    "    pizzas = []\n",
    "    with open('pizzas.txt', 'r') as file:\n",
    "        for line in file:\n",
    "            pizza_data = line.strip().split('|')\n",
    "            pizza = Pizza(pizza_data[0], pizza_data[1].split(', '), float(pizza_data[2]))\n",
    "            pizzas.append(pizza)\n",
    "    return pizzas\n",
    "\n",
    "\n",
    "if __name__ == '__main__':\n",
    "    pizzas = [\n",
    "        Pizza('Margherita', ['Tomatoes', 'Mozzarella'], 9.99),\n",
    "        Pizza('Pepperoni', ['Pepperoni', 'Mozzarella'], 11.99),\n",
    "        Pizza('Hawaiian', ['Ham', 'Pineapple', 'Mozzarella'], 12.99)\n",
    "    ]\n",
    "\n",
    "    save_pizzas_to_file(pizzas)\n",
    "\n",
    "    loaded_pizzas = read_pizzas_from_file()\n",
    "    for pizza in loaded_pizzas:\n",
    "        print(pizza)\n"
   ]
  },
  {
   "cell_type": "code",
   "execution_count": null,
   "metadata": {
    "vscode": {
     "languageId": "plaintext"
    }
   },
   "outputs": [],
   "source": [
    "import csv\n",
    "\n",
    "# Данные для записи\n",
    "data = [\n",
    "    ['Name', 'Age', 'City'],\n",
    "    ['Alice', 25, 'New York'],\n",
    "    ['Bob', 30, 'San Francisco'],\n",
    "    ['Charlie', 35, 'Boston']\n",
    "]\n",
    "\n",
    "# Открытие файла для записи\n",
    "with open('data.csv', mode='w', newline='') as file:\n",
    "    # Создание объекта для записи CSV-файла\n",
    "    writer = csv.writer(file)\n",
    "    # Запись данных в файл\n",
    "    for row in data:\n",
    "        writer.writerow(row)\n",
    "    print('Данные успешно записаны в файл')\n",
    "\n",
    "# чтение файла\n",
    "with open('data.csv', mode='r') as file:\n",
    "    # Создание объекта для чтения CSV-файла\n",
    "    reader = csv.reader(file)\n",
    "    # Проход по строкам в файле\n",
    "    for row in reader:\n",
    "        print(row)\n"
   ]
  },
  {
   "cell_type": "code",
   "execution_count": null,
   "metadata": {
    "vscode": {
     "languageId": "plaintext"
    }
   },
   "outputs": [],
   "source": [
    "import json\n",
    "\n",
    "# Данные для записи\n",
    "data = {\n",
    "    'name': 'Alice',\n",
    "    'age': 25,\n",
    "    'city': 'New York'\n",
    "}\n",
    "\n",
    "# Открытие файла для записи\n",
    "with open('data.json', mode='w') as file:\n",
    "    # Запись данных в файл в формате JSON\n",
    "    json.dump(data, file)\n",
    "    print('Данные успешно записаны в файл')\n",
    "    \n",
    "# Чтение данных из файла\n",
    "with open('data.json', mode='r') as file:\n",
    "    # Чтение данных из файла в формате JSON\n",
    "    data = json.load(file)\n",
    "    print(f'Данные из файла: {data}')\n"
   ]
  },
  {
   "cell_type": "code",
   "execution_count": null,
   "metadata": {
    "vscode": {
     "languageId": "plaintext"
    }
   },
   "outputs": [],
   "source": [
    "import xml.etree.ElementTree as ET\n",
    "\n",
    "# Создание корневого элемента XML\n",
    "root = ET.Element('users')\n",
    "\n",
    "# Добавление элементов пользователей\n",
    "user1 = ET.SubElement(root, 'user')\n",
    "user1.set('id', '1')\n",
    "name1 = ET.SubElement(user1, 'name')\n",
    "name1.text = 'Alice'\n",
    "age1 = ET.SubElement(user1, 'age')\n",
    "age1.text = '25'\n",
    "city1 = ET.SubElement(user1, 'city')\n",
    "city1.text = 'New York'\n",
    "\n",
    "user2 = ET.SubElement(root, 'user')\n",
    "user2.set('id', '2')\n",
    "name2 = ET.SubElement(user2, 'name')\n",
    "name2.text = 'Bob'\n",
    "age2 = ET.SubElement(user2, 'age')\n",
    "age2.text = '30'\n",
    "city2 = ET.SubElement(user2, 'city')\n",
    "city2.text = 'San Francisco'\n",
    "\n",
    "# Запись данных в XML-файл\n",
    "tree = ET.ElementTree(root)\n",
    "tree.write('data.xml', encoding='UTF-8')\n",
    "print('Данные успешно записаны в файл')\n",
    "\n",
    "# Чтение данных из файла\n",
    "tree = ET.parse('data.xml')\n",
    "root = tree.getroot()\n",
    "for user in root:\n",
    "    print(f\"Пользователь с ID {user.get('id')}:\")\n",
    "    print(f\"Имя: {user.find('name').text}\")\n",
    "    print(f\"Возраст: {user.find('age').text}\")\n",
    "    print(f\"Город: {user.find('city').text}\")\n"
   ]
  }
 ],
 "metadata": {
  "kernelspec": {
   "display_name": "Python 3.7.4 64-bit ('base': conda)",
   "name": "python37464bitbaseconda965802ec3bac4354bcdf100448e694ef"
  },
  "language_info": {
   "codemirror_mode": {
    "name": "ipython",
    "version": 3
   },
   "file_extension": ".py",
   "mimetype": "text/x-python",
   "name": "python",
   "nbconvert_exporter": "python",
   "pygments_lexer": "ipython3",
   "version": "3.7.7-final"
  },
  "orig_nbformat": 2
 },
 "nbformat": 4,
 "nbformat_minor": 2
}
