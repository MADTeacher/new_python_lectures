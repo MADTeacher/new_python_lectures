{
 "cells": [
  {
   "cell_type": "code",
   "execution_count": null,
   "metadata": {
    "vscode": {
     "languageId": "plaintext"
    }
   },
   "outputs": [],
   "source": [
    "file = open('filename.txt', 'w')\n",
    "file.write('Hello, world! ')\n",
    "file.close()\n"
   ]
  },
  {
   "cell_type": "code",
   "execution_count": null,
   "metadata": {
    "vscode": {
     "languageId": "plaintext"
    }
   },
   "outputs": [],
   "source": [
    "with open('filename.txt', 'w') as file:\n",
    "    file.write('Hello, world! ')\n"
   ]
  },
  {
   "cell_type": "code",
   "execution_count": null,
   "metadata": {
    "vscode": {
     "languageId": "plaintext"
    }
   },
   "outputs": [],
   "source": [
    "file = open('filename.txt', 'r')\n",
    "content = file.read()\n",
    "file.close()\n",
    "\n",
    "# или\n",
    "\n",
    "with open('filename.txt', 'r') as file:\n",
    "    content = file.read()\n",
    "    print(content)\n"
   ]
  },
  {
   "cell_type": "code",
   "execution_count": null,
   "metadata": {
    "vscode": {
     "languageId": "plaintext"
    }
   },
   "outputs": [],
   "source": [
    "# Запись в файл\n",
    "with open('example.txt', 'w') as f:\n",
    "    f.write('Это первая строка\\n')\n",
    "    f.write('А это вторая строка\\n')\n",
    "    f.writelines(['Третья строка\\n', 'И четвертая строка\\n'])\n",
    "\n",
    "# Чтение из файла\n",
    "with open('example.txt', 'r') as f:\n",
    "    # Чтение всего содержимого файла\n",
    "    contents = f.read()\n",
    "    print(contents)\n",
    "\n",
    "    # Построчное чтение файла\n",
    "    f.seek(0)  # Сброс указателя файла в начало\n",
    "    line = f.readline()\n",
    "    while line:\n",
    "        print(line.strip())\n",
    "        line = f.readline()\n",
    "    \n",
    "    print()\n",
    "\n",
    "    # Чтение всех строк файла в список\n",
    "    f.seek(0)  # Сброс указателя файла в начало\n",
    "    lines = f.readlines()\n",
    "    for line in lines:\n",
    "        print(line.strip())\n"
   ]
  }
 ],
 "metadata": {
  "kernelspec": {
   "display_name": "Python 3.7.4 64-bit ('base': conda)",
   "name": "python37464bitbaseconda965802ec3bac4354bcdf100448e694ef"
  },
  "language_info": {
   "codemirror_mode": {
    "name": "ipython",
    "version": 3
   },
   "file_extension": ".py",
   "mimetype": "text/x-python",
   "name": "python",
   "nbconvert_exporter": "python",
   "pygments_lexer": "ipython3",
   "version": "3.7.7-final"
  },
  "orig_nbformat": 2
 },
 "nbformat": 4,
 "nbformat_minor": 2
}
