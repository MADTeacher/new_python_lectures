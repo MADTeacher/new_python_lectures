{
 "cells": [
  {
   "cell_type": "code",
   "execution_count": null,
   "metadata": {
    "vscode": {
     "languageId": "plaintext"
    }
   },
   "outputs": [],
   "source": [
    "import os\n",
    "\n",
    "file_path = 'path/to/file.txt' # Путь к файлу\n",
    "file_info = os.stat(file_path) # Получение информации о файле\n",
    "\n",
    "# Вывод информации о файле\n",
    "print(f'Имя файла: {os.path.basename(file_path)}')\n",
    "print(f'Размер файла: {file_info.st_size} байт')\n",
    "print(f'Дата последней модификации: {os.path.getmtime(file_path)}')\n",
    "print(f'Абсолютный путь к файлу: {os.path.abspath(file_path)}')\n"
   ]
  },
  {
   "cell_type": "code",
   "execution_count": null,
   "metadata": {
    "vscode": {
     "languageId": "plaintext"
    }
   },
   "outputs": [],
   "source": [
    "import pathlib\n",
    "\n",
    "file_path = 'path/to/file.txt' # Путь к файлу\n",
    "file = pathlib.Path(file_path) # Создание объекта Path\n",
    "file_info = file.stat() # Получение информации о файле\n",
    "\n",
    "# Вывод информации о файле\n",
    "print(f'Имя файла: {file.name}')\n",
    "print(f'Размер файла: {file_info.st_size} байт')\n",
    "print(f'Дата последней модификации: {file.stat().st_mtime}')\n",
    "print(f'Абсолютный путь к файлу: {file.absolute()}')\n"
   ]
  }
 ],
 "metadata": {
  "kernelspec": {
   "display_name": "Python 3.7.4 64-bit ('base': conda)",
   "name": "python37464bitbaseconda965802ec3bac4354bcdf100448e694ef"
  },
  "language_info": {
   "codemirror_mode": {
    "name": "ipython",
    "version": 3
   },
   "file_extension": ".py",
   "mimetype": "text/x-python",
   "name": "python",
   "nbconvert_exporter": "python",
   "pygments_lexer": "ipython3",
   "version": "3.7.7-final"
  },
  "orig_nbformat": 2
 },
 "nbformat": 4,
 "nbformat_minor": 2
}
