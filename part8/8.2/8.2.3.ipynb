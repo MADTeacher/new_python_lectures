{
 "cells": [
  {
   "cell_type": "code",
   "execution_count": null,
   "metadata": {
    "vscode": {
     "languageId": "plaintext"
    }
   },
   "outputs": [],
   "source": [
    "import tempfile\n",
    "import shutil\n",
    "\n",
    "# Создание временной директории\n",
    "temp_dir = tempfile.mkdtemp()\n",
    "\n",
    "# Удаление временной директории\n",
    "shutil.rmtree(temp_dir)\n"
   ]
  },
  {
   "cell_type": "code",
   "execution_count": null,
   "metadata": {
    "vscode": {
     "languageId": "plaintext"
    }
   },
   "outputs": [],
   "source": [
    "import tempfile\n",
    "\n",
    "# Создание временной директории\n",
    "with tempfile.TemporaryDirectory() as temp_dir:\n",
    "    print(f\"Создана временная директория: {temp_dir}\")\n",
    "    # Здесь можно выполнять операции с временной директорией\n",
    "\n",
    "# Директория автоматически удаляется после завершения блока with\n",
    "print(f\"Временная директория удалена\")\n"
   ]
  }
 ],
 "metadata": {
  "kernelspec": {
   "display_name": "Python 3.7.4 64-bit ('base': conda)",
   "name": "python37464bitbaseconda965802ec3bac4354bcdf100448e694ef"
  },
  "language_info": {
   "codemirror_mode": {
    "name": "ipython",
    "version": 3
   },
   "file_extension": ".py",
   "mimetype": "text/x-python",
   "name": "python",
   "nbconvert_exporter": "python",
   "pygments_lexer": "ipython3",
   "version": "3.7.7-final"
  },
  "orig_nbformat": 2
 },
 "nbformat": 4,
 "nbformat_minor": 2
}
