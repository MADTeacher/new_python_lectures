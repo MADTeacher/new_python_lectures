{
 "cells": [
  {
   "cell_type": "code",
   "execution_count": null,
   "metadata": {
    "vscode": {
     "languageId": "plaintext"
    }
   },
   "outputs": [],
   "source": [
    "from multiprocessing import Process\n",
    "import time\n",
    "\n",
    "\n",
    "def make_pizza(pizza_name, cooking_time):\n",
    "    print(f\"Начинаю готовить пиццу {pizza_name}...\")\n",
    "    time.sleep(cooking_time)\n",
    "    print(f\"Пицца {pizza_name} готова!\")\n",
    "\n",
    "\n",
    "if __name__ == '__main__':\n",
    "    # Создание процесса для приготовления пиццы\n",
    "    pizza_process = Process(target=make_pizza, args=(\"Маргарита\", 10))\n",
    "\n",
    "    # Запуск процесса\n",
    "    pizza_process.start()\n",
    "\n",
    "    # Дождаться завершения процесса\n",
    "    pizza_process.join()\n"
   ]
  },
  {
   "cell_type": "code",
   "execution_count": null,
   "metadata": {
    "vscode": {
     "languageId": "plaintext"
    }
   },
   "outputs": [],
   "source": [
    "from multiprocessing import Process\n",
    "import time\n",
    "\n",
    "class PizzaMaker(Process):\n",
    "    def __init__(self, pizza_name: str, cooking_time: int):\n",
    "        super().__init__()\n",
    "        self.pizza_name = pizza_name\n",
    "        self.cooking_time = cooking_time\n",
    "\n",
    "    def run(self) -> None:\n",
    "        print(f\"Начинаю готовить пиццу {self.pizza_name}...\")\n",
    "        time.sleep(self.cooking_time)\n",
    "        print(f\"Пицца {self.pizza_name} готова!\")\n",
    "\n",
    "if __name__ == '__main__':\n",
    "    # Создание процесса для приготовления пиццы\n",
    "    pizza_process = PizzaMaker(\"Маргарита\", 10)\n",
    "\n",
    "    # Запуск процесса\n",
    "    pizza_process.start()\n",
    "\n",
    "    # Дождаться завершения процесса\n",
    "    pizza_process.join()\n"
   ]
  }
 ],
 "metadata": {
  "kernelspec": {
   "display_name": "Python 3.7.4 64-bit ('base': conda)",
   "name": "python37464bitbaseconda965802ec3bac4354bcdf100448e694ef"
  },
  "language_info": {
   "codemirror_mode": {
    "name": "ipython",
    "version": 3
   },
   "file_extension": ".py",
   "mimetype": "text/x-python",
   "name": "python",
   "nbconvert_exporter": "python",
   "pygments_lexer": "ipython3",
   "version": "3.7.7-final"
  },
  "orig_nbformat": 2
 },
 "nbformat": 4,
 "nbformat_minor": 2
}
