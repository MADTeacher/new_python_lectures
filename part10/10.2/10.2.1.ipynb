{
 "cells": [
  {
   "cell_type": "code",
   "execution_count": null,
   "metadata": {
    "vscode": {
     "languageId": "plaintext"
    }
   },
   "outputs": [],
   "source": [
    "from threading import Thread\n",
    "\n",
    "\n",
    "class MyThread(Thread):\n",
    "    def __init__(self, arg1, arg2):\n",
    "        super().__init__()\n",
    "        self.arg1 = arg1\n",
    "        self.arg2 = arg2\n",
    "\n",
    "    def run(self):\n",
    "        # Здесь выполняется ваш код\n",
    "        print(f\"Работа в потоке с аргументами {self.arg1} и {self.arg2}\")\n",
    "\n",
    "\n",
    "# Создание экземпляра потока\n",
    "my_thread = MyThread(10, 20)\n",
    "\n",
    "# Запуск потока\n",
    "my_thread.start()\n",
    "\n",
    "# Ожидание завершения потока (при необходимости)\n",
    "my_thread.join()\n",
    "\n",
    "print(\"Основной поток завершен\")\n"
   ]
  },
  {
   "cell_type": "code",
   "execution_count": null,
   "metadata": {
    "vscode": {
     "languageId": "plaintext"
    }
   },
   "outputs": [],
   "source": [
    "from threading import Timer\n",
    "import time\n",
    "\n",
    "\n",
    "class Pizzeria:\n",
    "    def __init__(self) -> None:\n",
    "        self.delivery_time: int = 3\n",
    "\n",
    "    def cook_pizza(self, order: str) -> None:\n",
    "        print(f\"Повар начал готовить пиццу {order}\")\n",
    "        time.sleep(2)  # Имитация процесса готовки\n",
    "        print(f\"Пицца {order} готова\")\n",
    "        self.deliver_pizza(order)\n",
    "\n",
    "    def deliver_pizza(self, order: str) -> None:\n",
    "        timer = Timer(\n",
    "            self.delivery_time,\n",
    "            self._pizza_delivered,\n",
    "            args=(order,)\n",
    "        )\n",
    "        timer.start()\n",
    "\n",
    "    def _pizza_delivered(self, order: str) -> None:\n",
    "        print(f\"Пицца {order} доставлена клиенту\")\n",
    "\n",
    "\n",
    "if __name__ == '__main__':\n",
    "    pizzeria = Pizzeria()\n",
    "    orders = [\"Маргарита\", \"Пепперони\", \"Гавайская\"]\n",
    "\n",
    "    for order in orders:\n",
    "        pizzeria.cook_pizza(order)\n"
   ]
  }
 ],
 "metadata": {
  "kernelspec": {
   "display_name": "Python 3.7.4 64-bit ('base': conda)",
   "name": "python37464bitbaseconda965802ec3bac4354bcdf100448e694ef"
  },
  "language_info": {
   "codemirror_mode": {
    "name": "ipython",
    "version": 3
   },
   "file_extension": ".py",
   "mimetype": "text/x-python",
   "name": "python",
   "nbconvert_exporter": "python",
   "pygments_lexer": "ipython3",
   "version": "3.7.7-final"
  },
  "orig_nbformat": 2
 },
 "nbformat": 4,
 "nbformat_minor": 2
}
