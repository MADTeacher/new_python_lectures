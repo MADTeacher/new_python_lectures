{
 "cells": [
  {
   "cell_type": "code",
   "execution_count": null,
   "metadata": {
    "tags": []
   },
   "outputs": [],
   "source": [
    "t = 20\n",
    "if t >= 30:\n",
    "    print('Надеть шорты')\n",
    "else:\n",
    "    print('Надеть брюки')"
   ]
  },
  {
   "cell_type": "code",
   "execution_count": null,
   "metadata": {
    "tags": []
   },
   "outputs": [],
   "source": [
    "value = 15\n",
    "if 0 < value < 10:\n",
    "    print('Число входит в диапазон от 0 до 10')\n",
    "elif 10 < value < 20:\n",
    "    print('Число входит в диапазон от 10 до 20')\n",
    "elif 20 < value < 30:\n",
    "    print('Число входит в диапазон от 20 до 30')\n",
    "else:\n",
    "    print('Значение > 30')\n"
   ]
  },
  {
   "cell_type": "code",
   "execution_count": null,
   "metadata": {
    "tags": []
   },
   "outputs": [],
   "source": [
    "value = 15\n",
    "if value > 30:\n",
    "    if value < 50:\n",
    "        print('30 < value < 50')\n",
    "    else:\n",
    "        print('30 < value >= 50')\n",
    "else:\n",
    "    if value > 10:\n",
    "        print('30 >= value > 10')\n",
    "    else:\n",
    "        print('30 >= value < 10')"
   ]
  },
  {
   "cell_type": "markdown",
   "metadata": {},
   "source": []
  }
 ],
 "metadata": {
  "file_extension": ".py",
  "kernelspec": {
   "display_name": "Python 3.7.4 64-bit ('base': conda)",
   "name": "python37464bitbaseconda965802ec3bac4354bcdf100448e694ef"
  },
  "language_info": {
   "codemirror_mode": {
    "name": "ipython",
    "version": 3
   },
   "name": "python",
   "version": "3.8.3-final"
  },
  "mimetype": "text/x-python",
  "name": "python",
  "npconvert_exporter": "python",
  "orig_nbformat": 2,
  "pygments_lexer": "ipython3",
  "version": 3
 },
 "nbformat": 4,
 "nbformat_minor": 2
}
