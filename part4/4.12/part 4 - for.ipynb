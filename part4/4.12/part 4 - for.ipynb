{
 "cells": [
  {
   "cell_type": "code",
   "execution_count": null,
   "metadata": {
    "tags": []
   },
   "outputs": [],
   "source": [
    "for it in ['first', 'second', 4, 5.9, 'finish']:\n",
    "\tprint(it, end='  ')\n"
   ]
  },
  {
   "cell_type": "code",
   "execution_count": null,
   "metadata": {
    "tags": []
   },
   "outputs": [],
   "source": [
    "my_str = 'Абра-кадабра'\n",
    "for it in my_str:\n",
    "    print(it, end='-')\n"
   ]
  },
  {
   "cell_type": "code",
   "execution_count": null,
   "metadata": {
    "tags": []
   },
   "outputs": [],
   "source": [
    "my_tuple_list = [(3,6), (0,1), (4,5), ('O',3.9)]\n",
    "for (a,b) in my_tuple_list:\n",
    "    print(a, b)\n"
   ]
  },
  {
   "cell_type": "code",
   "execution_count": null,
   "metadata": {
    "tags": []
   },
   "outputs": [],
   "source": [
    "# извлечение значений через итерируемый ключ\n",
    "my_dict = {'a':1, 'b': 10, 'c': 3.8}\n",
    "for key in my_dict:\n",
    "    print(key, '=>', my_dict[key])\n",
    "\n",
    "# итерация по паре «ключ:значение»\n",
    "for key, value in my_dict.items():\n",
    "    print(key, '=>', value)\n"
   ]
  },
  {
   "cell_type": "code",
   "execution_count": null,
   "metadata": {
    "tags": []
   },
   "outputs": [],
   "source": [
    "items = (\"ааа\", 111, (8, 9), 2.01)\n",
    "tests = [(8, 9), 3]\n",
    "for key in tests:\n",
    "    for item in items:\n",
    "        if item == key:\n",
    "            print (key, 'найден')\n",
    "            break\n",
    "else:\n",
    "    print(key, \"не найден!\")\n"
   ]
  },
  {
   "cell_type": "code",
   "execution_count": null,
   "metadata": {
    "tags": []
   },
   "outputs": [],
   "source": [
    "print(range(10)) # range(0, 10)\n",
    "print(list(range(10))) \n",
    "# [0, 1, 2, 3, 4, 5, 6, 7, 8, 9]\n",
    "\n",
    "print(range(0,6)) # range(0, 6)\n",
    "print(list(range(0, 6))) # [0, 1, 2, 3, 4, 5]\n",
    "print(list(range(0, 6, 2))) # [0, 2, 4]\n"
   ]
  },
  {
   "cell_type": "code",
   "execution_count": null,
   "metadata": {
    "tags": []
   },
   "outputs": [],
   "source": [
    "print(list(range(-5, 5)))\n",
    "# [-5, -4, -3, -2, -1, 0, 1, 2, 3, 4]\n",
    "\n",
    "print(list(range(5, -5, -1)))\n",
    "# [5, 4, 3, 2, 1, 0, -1, -2, -3, -4]\n"
   ]
  },
  {
   "cell_type": "code",
   "execution_count": null,
   "metadata": {
    "tags": []
   },
   "outputs": [],
   "source": [
    "my_str = 'Test'\n",
    "for it in my_str: \n",
    "    print(it, end=' ') # Простая итерация\n",
    "# T e s t\n",
    "\n",
    "print(len(my_str)) # 4\n",
    "print(list(range(len(my_str)))) # [0, 1, 2, 3]\n",
    "#Ручная итерация посредством range/len\n",
    "for it in range(len(my_str)): \n",
    "    print(my_str[it], end=' ') \n"
   ]
  },
  {
   "cell_type": "code",
   "execution_count": null,
   "metadata": {
    "tags": []
   },
   "outputs": [],
   "source": [
    "first_list = [1,2,3,4,5]\n",
    "second_list = [6,7,8,9,10]\n",
    "print(list(zip(first_list, second_list)))\n",
    "# [(1, 6), (2, 7), (3, 8), (4, 9), (5, 10)]\n",
    "\n",
    "for a, b in zip(first_list, second_list):\n",
    "    print(a, '+', b, '=' , a+b)\n"
   ]
  },
  {
   "cell_type": "code",
   "execution_count": null,
   "metadata": {
    "tags": []
   },
   "outputs": [],
   "source": [
    "one, two, three = (1,2,3,5,9), (4,5,6), (7,8,9,23)\n",
    "print(list(zip(one, two, three)))\n"
   ]
  },
  {
   "cell_type": "code",
   "execution_count": null,
   "metadata": {},
   "outputs": [],
   "source": [
    "my_str = 'Test'\n",
    "for index, it in enumerate(my_str):\n",
    "    print('Индекс элемента ',it,' = ' , index)"
   ]
  }
 ],
 "metadata": {
  "file_extension": ".py",
  "kernelspec": {
   "display_name": "Python 3.7.4 64-bit ('base': conda)",
   "name": "python37464bitbaseconda965802ec3bac4354bcdf100448e694ef"
  },
  "language_info": {
   "codemirror_mode": {
    "name": "ipython",
    "version": 3
   },
   "name": "python",
   "version": "3.8.3-final"
  },
  "mimetype": "text/x-python",
  "name": "python",
  "npconvert_exporter": "python",
  "orig_nbformat": 2,
  "pygments_lexer": "ipython3",
  "version": 3
 },
 "nbformat": 4,
 "nbformat_minor": 2
}
