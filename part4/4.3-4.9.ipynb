{
 "cells": [
  {
   "cell_type": "code",
   "execution_count": null,
   "metadata": {},
   "outputs": [],
   "source": [
    "i = 5\n",
    "print(isinstance(i, object))\n",
    "print(isinstance('Oo', object))\n",
    "print(isinstance([2, 4, 't'], object))\n",
    "print(isinstance({'a': 3, 'b': 5}, object))\n",
    "print(isinstance((2, 4, 'w'), object))\n",
    "def test_func():\n",
    "    pass\n",
    "print(isinstance(test_func, object))"
   ]
  },
  {
   "cell_type": "code",
   "execution_count": null,
   "metadata": {},
   "outputs": [],
   "source": [
    "my_list = [2, 3, 4, [1, 4]]\n",
    "bad_list = my_list.copy()\n",
    "bad_list.append(10)\n",
    "print(bad_list)\n",
    "print(my_list)\n",
    "bad_list[3].append('Oo')\n",
    "print(bad_list)\n",
    "print(my_list)"
   ]
  },
  {
   "cell_type": "code",
   "execution_count": null,
   "metadata": {},
   "outputs": [],
   "source": [
    "import copy\n",
    "my_list = [2, 3, 4, [1, 4]]\n",
    "bad_list = copy.deepcopy(my_list)\n",
    "bad_list.append(10)\n",
    "print(bad_list)\n",
    "print(my_list)\n",
    "bad_list[3].append('Oo')\n",
    "print(bad_list)\n",
    "print(my_list)"
   ]
  },
  {
   "cell_type": "code",
   "execution_count": null,
   "metadata": {},
   "outputs": [],
   "source": [
    "x = 1000\n",
    "y = 1000\n",
    "print(f'Xid = {id(x)}; Yid = {id(y)}')\n",
    "print(x is y)"
   ]
  },
  {
   "cell_type": "code",
   "execution_count": null,
   "metadata": {},
   "outputs": [],
   "source": [
    "x = 25\n",
    "y = 24\n",
    "print(f'Xid = {id(x)}; Yid = {id(y)}')\n",
    "print(x is y)"
   ]
  },
  {
   "cell_type": "code",
   "execution_count": null,
   "metadata": {},
   "outputs": [],
   "source": [
    "y += 1\n",
    "print(f'Xid = {id(x)}; Yid = {id(y)}')\n",
    "print(x is y)"
   ]
  },
  {
   "cell_type": "code",
   "execution_count": null,
   "metadata": {},
   "outputs": [],
   "source": [
    "x = 540\n",
    "y = 539\n",
    "y += 1\n",
    "print(f'Xid = {id(x)}; Yid = {id(y)}')\n",
    "print(x is y)"
   ]
  },
  {
   "cell_type": "code",
   "execution_count": null,
   "metadata": {},
   "outputs": [],
   "source": [
    "str1 = \"Itsfantastic\"\n",
    "str2 = \"Itsfantastic\"\n",
    "print(f'S1 = {id(str1)}; S2 = {id(str2)}')\n",
    "print(str1 is str2)"
   ]
  },
  {
   "cell_type": "code",
   "execution_count": null,
   "metadata": {},
   "outputs": [],
   "source": [
    "str1 = \"Its fantastic\"\n",
    "str2 = \"Its fantastic\"\n",
    "print(f'S1 = {id(str1)}; S2 = {id(str2)}')\n",
    "print(str1 is str2)\n",
    "\n",
    "str1 = \"Itsfantastic!\"\n",
    "str2 = \"Itsfantastic!\"\n",
    "print(f'S1 = {id(str1)}; S2 = {id(str2)}')\n",
    "print(str1 is str2)\n",
    "\n",
    "str1 = \"It's fantastic!\"\n",
    "str2 = \"It's fantastic!\"\n",
    "print(f'S1 = {id(str1)}; S2 = {id(str2)}')\n",
    "print(str1 is str2)"
   ]
  },
  {
   "cell_type": "code",
   "execution_count": null,
   "metadata": {},
   "outputs": [],
   "source": [
    "import sys\n",
    "str1 = sys.intern(\"It's fantastic!\")\n",
    "str2 = sys.intern(\"It's fantastic!\")\n",
    "print(f'S1 = {id(str1)}; S2 = {id(str2)}')\n",
    "print(str1 is str2)"
   ]
  },
  {
   "cell_type": "code",
   "execution_count": null,
   "metadata": {},
   "outputs": [],
   "source": [
    "import sys\n",
    "str1 = sys.intern(\"It's fantastic!\")\n",
    "str2 = \"It's fantastic!\"\n",
    "print(f'S1 = {id(str1)}; S2 = {id(str2)}')\n",
    "print(str1 is str2)"
   ]
  },
  {
   "cell_type": "code",
   "execution_count": null,
   "metadata": {},
   "outputs": [],
   "source": [
    "import sys\n",
    "one = tow = three = object()\n",
    "print(sys.getrefcount(one))\n",
    "three = 4\n",
    "print(sys.getrefcount(one))"
   ]
  }
 ],
 "metadata": {
  "kernelspec": {
   "display_name": "Python 3.7.4 64-bit ('base': conda)",
   "name": "python37464bitbaseconda965802ec3bac4354bcdf100448e694ef"
  },
  "language_info": {
   "codemirror_mode": {
    "name": "ipython",
    "version": 3
   },
   "file_extension": ".py",
   "mimetype": "text/x-python",
   "name": "python",
   "nbconvert_exporter": "python",
   "pygments_lexer": "ipython3",
   "version": "3.7.7-final"
  },
  "orig_nbformat": 2
 },
 "nbformat": 4,
 "nbformat_minor": 2
}
