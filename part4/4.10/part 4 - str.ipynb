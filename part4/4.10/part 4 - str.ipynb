{
 "cells": [
  {
   "cell_type": "code",
   "execution_count": null,
   "metadata": {
    "tags": []
   },
   "outputs": [],
   "source": [
    "my_str = 'Hello' \n",
    "# также можно инициализировать переменную через \n",
    "# двойные кавычки my_str = \" Test\"  \n",
    "print(len(my_str)) # Длина строки = 5\n",
    "print(my_str[0]) # H\n",
    "# Выводим первый элемент my_str, так как индексация \n",
    "# начинается с нуля"
   ]
  },
  {
   "cell_type": "code",
   "execution_count": null,
   "metadata": {
    "tags": []
   },
   "outputs": [],
   "source": [
    "print(my_str[-1]) # Первый элемент с конца = o\n",
    "print(my_str[-3]) # Третий элемент с конца = l"
   ]
  },
  {
   "cell_type": "code",
   "execution_count": null,
   "metadata": {
    "tags": []
   },
   "outputs": [],
   "source": [
    "print(my_str[1:3])  # el\n",
    "# Срез my_str со смещения 1 до 2 включительно (не 3)"
   ]
  },
  {
   "cell_type": "code",
   "execution_count": null,
   "metadata": {
    "tags": []
   },
   "outputs": [],
   "source": [
    "# Вся строка my_str\n",
    "print(my_str[:]) # Hello    \n",
    "# Всё после первого элемента\n",
    "print(my_str[1:]) # ello\n",
    "# Кроме последнего элемента\n",
    "print(my_str[0:3]) # Hel\n",
    "# То же, что и my_str[0:3]\n",
    "print(my_str[:3]) # Hel\n",
    "print(my_str[:-1])  # Hell"
   ]
  },
  {
   "cell_type": "code",
   "execution_count": null,
   "metadata": {
    "tags": []
   },
   "outputs": [],
   "source": [
    "# От первого до последнего элемента с шагом 1\n",
    "print(my_str[::1]) # Hello    \n",
    "# От первого до последнего элемента с шагом 2\n",
    "print(my_str[::2]) # Hlo  \n",
    "# Аналогична предыдущей записи\n",
    "print(my_str[0:4:2])  # Hl\n",
    "#  От второго до последнего элемента с шагом 2\n",
    "print(my_str[1::2])  # el\n",
    "# Перевернуть последовательность\n",
    "print(my_str[::-1])  # elloH\n"
   ]
  },
  {
   "cell_type": "code",
   "execution_count": null,
   "metadata": {
    "tags": []
   },
   "outputs": [],
   "source": [
    "#Конкатенация (значение my_str не изменяется)\n",
    "print(my_str+'!!!') # Hello!!!\n",
    "# Повторение (значение my_str не изменяется)\n",
    "print(my_str * 3) # HelloHelloHello\n",
    "# Конкатенация \n",
    "print([1,7,9] + [8,5]) #  [1, 7, 9, 8, 5]\n",
    "# Повторение\n",
    "print([1, 2, 3] * 3)  # [1, 2, 3, 1, 2, 3, 1, 2, 3]"
   ]
  },
  {
   "cell_type": "code",
   "execution_count": null,
   "metadata": {
    "tags": []
   },
   "outputs": [],
   "source": [
    "my_str = my_str[1:] + 'E'\n",
    "print(my_str) # elloE"
   ]
  },
  {
   "cell_type": "code",
   "execution_count": null,
   "metadata": {
    "tags": []
   },
   "outputs": [],
   "source": [
    "my_str = 'Hello'\n",
    "# Развернуть в список: [. . . ]\n",
    "my_list = list(my_str)  \n",
    "print(my_list) # ['H', 'e', 'l', 'l', 'o']\n",
    "my_list[0] = 'S'    # Изменить на месте\n",
    "# Объединить с пустым разделителем\n",
    "print('' .join(my_list))   # Sello"
   ]
  },
  {
   "cell_type": "code",
   "execution_count": null,
   "metadata": {
    "tags": []
   },
   "outputs": [],
   "source": [
    "my_str = 'Hello'\n",
    "# Поиск смещения подстроки в my_str \n",
    "print(my_str.find('el'))\t# 1\n",
    "# Замена вхождения подстроки в my_str\n",
    "# другой подстрокой\n",
    "print(my_str.replace('el', ' RTY')) # H RTYlo\n",
    "print(my_str) # Hello\n",
    "\n",
    "line = 'ffff,ttt,nn,d'\n",
    "# Разбить строку по разделителю ',' в список подстрок\n",
    "print(line.split(',')) \n",
    "['ffff', 'ttt', 'nn', 'd']\n",
    "# Преобразовать символы строки в верхний регистр\n",
    "print(my_str.upper()) # TEST\n",
    "line = 'ffff,ttt,nn,d\\n'\n",
    "# Удалить пробельные символы с правой стороны\n",
    "print(line.rstrip())# ffff ,ttt ,nn ,d"
   ]
  },
  {
   "cell_type": "code",
   "execution_count": null,
   "metadata": {
    "tags": []
   },
   "outputs": [],
   "source": [
    "# Замена подстроки в строке с последующим её \n",
    "#разделением в список\n",
    "print(line.replace('tt', 'RTY').split(',')) "
   ]
  }
 ],
 "metadata": {
  "kernelspec": {
   "display_name": "Python 3.7.4 64-bit ('base': conda)",
   "name": "python37464bitbaseconda965802ec3bac4354bcdf100448e694ef"
  },
  "language_info": {
   "codemirror_mode": {
    "name": "ipython",
    "version": 3
   },
   "file_extension": ".py",
   "mimetype": "text/x-python",
   "name": "python",
   "nbconvert_exporter": "python",
   "pygments_lexer": "ipython3",
   "version": "3.7.7-final"
  },
  "orig_nbformat": 2
 },
 "nbformat": 4,
 "nbformat_minor": 2
}
